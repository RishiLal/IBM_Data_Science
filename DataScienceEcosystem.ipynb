{
  "metadata": {
    "kernelspec": {
      "name": "python",
      "display_name": "Python (Pyodide)",
      "language": "python"
    },
    "language_info": {
      "codemirror_mode": {
        "name": "python",
        "version": 3
      },
      "file_extension": ".py",
      "mimetype": "text/x-python",
      "name": "python",
      "nbconvert_exporter": "python",
      "pygments_lexer": "ipython3",
      "version": "3.8"
    }
  },
  "nbformat_minor": 5,
  "nbformat": 4,
  "cells": [
    {
      "id": "03e58a31-c056-4309-a5a5-e440d693420c",
      "cell_type": "markdown",
      "source": "# Data Science Tools and Ecosystem ",
      "metadata": {}
    },
    {
      "id": "317b31c7-3dd6-4beb-8c70-7b40bae40858",
      "cell_type": "markdown",
      "source": "In this notebook, Data Science Tools and Ecosystem are summarized.",
      "metadata": {}
    },
    {
      "id": "81bc322a-03e4-429c-8fd0-136bdf9deb69",
      "cell_type": "markdown",
      "source": "**Objectives:**\n- List popular languages for Data Science.\n- List popular libraries used in Data Science.\n- Identify open-source tools used in Data Science.\n- Learning about the basic notation and syntax in Jupyter Notebooks.\n\n## Author\nRishi Lal",
      "metadata": {}
    },
    {
      "id": "73834661-a0f6-4a92-b7fe-08f1cf3f5025",
      "cell_type": "markdown",
      "source": "Some of the popular languages that Data Scientists use are:\n1. Python\n2. R\n3. SQL",
      "metadata": {}
    },
    {
      "id": "f8714a72-8bee-4585-adb1-fbf418c829cf",
      "cell_type": "markdown",
      "source": "Some of the commonly used libraries used by Data Scientists include:\n1. Pandas\n2. NumPy\n3. Matplotlib",
      "metadata": {}
    },
    {
      "id": "1aa5cb18-590a-4099-a3cc-cf3b6cb45c01",
      "cell_type": "markdown",
      "source": "| Data Science Tools |\n|-------------------|\n| Jupyter Notebooks |\n| Apache Zeppelin   |\n| RStudio           |\n|Scikit-Learn       |",
      "metadata": {}
    },
    {
      "id": "c153fc52-3f67-4b73-b6e6-348bc00bdbc7",
      "cell_type": "markdown",
      "source": "### Below are a few examples of evaluating arithmetic expressions in Python.",
      "metadata": {}
    },
    {
      "id": "4b0dbbe8-8bfa-48ff-9d5b-8de2faa09872",
      "cell_type": "code",
      "source": "#This a simple arithmetic expression to mutiply then add integers\n(3 * 4) + 5",
      "metadata": {
        "trusted": true
      },
      "outputs": [
        {
          "execution_count": 4,
          "output_type": "execute_result",
          "data": {
            "text/plain": "17"
          },
          "metadata": {}
        }
      ],
      "execution_count": 4
    },
    {
      "id": "a9a83d74-3246-4589-8820-5d3bc51168e0",
      "cell_type": "code",
      "source": "# This will convert 200 minutes to hours by dividing by 60.\nhours = 200 / 60\nhours",
      "metadata": {
        "trusted": true
      },
      "outputs": [
        {
          "execution_count": 5,
          "output_type": "execute_result",
          "data": {
            "text/plain": "3.3333333333333335"
          },
          "metadata": {}
        }
      ],
      "execution_count": 5
    }
  ]
}